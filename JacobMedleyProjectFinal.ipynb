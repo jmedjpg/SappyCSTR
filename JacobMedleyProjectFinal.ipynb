{
 "cells": [
  {
   "cell_type": "markdown",
   "metadata": {},
   "source": [
    "# Project\n",
    "**Jacob Medley**\n",
    "\n",
    "The project should provide some useful functionality in science or engineering. It could be a command line utility, or a package to use in notebooks. There should be some substance, but it does not need to be extensive. I don't expect it should take more than a few hours to write the code. It is not necessary to write very sophisticated code. Overall the project should demonstrate you have learned something in this class.\n",
    "\n",
    "1. The project must be pip installable\n",
    "2. Your project should utilize git, and there should be a version history.\n",
    "3. Your project should have some tests.\n",
    "4. Your project should use at least one code quality tool.\n",
    "5. Your project should have a readme.md and LICENSE file.\n",
    "6. The code should be well documented.\n",
    "7. The code should be original work.\n",
    "8. You should push it to a GitHUB repo.\n",
    "\n",
    "At the end of the mini you will give a live demonstration of your project and what it does.\n",
    "\n",
    " \n"
   ]
  },
  {
   "cell_type": "markdown",
   "metadata": {},
   "source": [
    "---"
   ]
  },
  {
   "cell_type": "markdown",
   "metadata": {},
   "source": [
    "The `SappyCSTR` package is designed to enhance the conversion of reactants in a Continuous Stirred Tank Reactor (CSTR) engaged in a saponification reaction. Utilizing the Python libraries `Pyomo` for mathematical optimization and `Thermo` for thermodynamic property calculations, this package focuses on optimizing key operational parameters such as inlet temperature, inlet concentration of reactants, reactor volume, and inlet volumetric flow rate. By providing a structured and efficient approach to adjust these parameters, `SappyCSTR` aims to achieve optimal reactant conversion, thereby enhancing the efficiency and output of chemical processes within CSTR systems."
   ]
  },
  {
   "cell_type": "markdown",
   "metadata": {},
   "source": [
    "Equations Governing the Reactor:  \n",
    "\n",
    "$ \\frac{dN_j}{dt} = F_{j, in} - F_{j, out} + r_j V$  \n",
    "\n",
    "$\\frac{dT}{dt} = \\frac{\\dot{Q} - \\dot{W}_s - \\sum F_{i,0} C_{P_i} (T - T_{i0}) + [- \\Delta H_{Rx} (T)(-r_A V)]}{\\sum N_i C_{P_i}}$  \n",
    "\n",
    "In this package, the goal is that the optimal conditions will be for the CSTR at steady-state, so both of the above two equations will be set to 0."
   ]
  },
  {
   "cell_type": "markdown",
   "metadata": {},
   "source": [
    "The objective function to maximize is:  \n",
    "\n",
    "$\\text{X} = \\frac{C_{A,in} - C_{A, out}}{C_{A, out}}$   "
   ]
  },
  {
   "cell_type": "markdown",
   "metadata": {},
   "source": [
    "Assumptions:  \n",
    "\n",
    "- Elementary kinetics, first order reaction.\n",
    "- Shaft work is negligible. ($\\dot{\\text{W}_\\text{s}}$ is 0).\n",
    "- The reactor is adiabatic ($\\dot{\\text{Q}}$ is 0).\n",
    "- Obtective is maximizing conversion of reactants. \n",
    "- The three variables to be optimized are inlet flow of each species ($F_{C_2 H_5 O_2 C_2 H_5,\\;in}$   \n",
    "  and $F_{\\text{NaOH}, \\; in}$), the volume of the overall reactor ($V$), and the inlet temperature of the reactor ($T_{in}$)."
   ]
  },
  {
   "cell_type": "markdown",
   "metadata": {},
   "source": [
    "The following study was used as a reference for determining the rate constant, activation energy, and appropriate bounds for reactor conditions. The study cites literature values in other papers in addition to its own, making it a good source for estimating initial conditions and defining the optimization model. \n",
    "\n",
    "Source: https://www.researchgate.net/profile/Parashuram-Sahoo/publication/229360677_Kinetic_Studies_on_Saponification_of_Ethyl_Acetate_Using_an_Innovative_Conductivity-Monitoring_Instrument_with_a_Pulsating_Sensor/links/59ddcfa6a6fdcc276fb9231b/Kinetic-Studies-on-Saponification-of-Ethyl-Acetate-Using-an-Innovative-Conductivity-Monitoring-Instrument-with-a-Pulsating-Sensor.pdf#:~:text=URL%3A%20https%3A%2F%2Fwww.researchgate.net%2Fprofile%2FParashuram"
   ]
  },
  {
   "cell_type": "code",
   "execution_count": null,
   "metadata": {},
   "outputs": [],
   "source": [
    "from pyomo.environ import ConcreteModel, Var, Constraint, Objective, SolverFactory, Param, NonNegativeReals, value, exp\n",
    "from thermo import Chemical\n",
    "\n",
    "#Ethyl Acetate Saponification\n",
    "def EASap(initial_conditions, rate_constant_303K, activation_energy, compound_names):\n",
    "    model = ConcreteModel()\n",
    "\n",
    "    def reaction_enthalpy(compound_names):\n",
    "        delta_H_rxn_react = 0.0\n",
    "        delta_H_rxn_prod = 0.0\n",
    "        for compound in compound_names['reactants'].values():\n",
    "            chemr = Chemical(compound['formula'])\n",
    "            delta_H_rxn_react += compound['stoichiometry'] * chemr.Hf\n",
    "        for compound in compound_names['products'].values():\n",
    "            chemp = Chemical(compound['formula'])\n",
    "            delta_H_rxn_prod += compound['stoichiometry'] * chemp.Hf\n",
    "        return (delta_H_rxn_prod - delta_H_rxn_react)\n",
    "\n",
    "    def specific_heat(compound_formula):\n",
    "        compound = Chemical(compound_formula)\n",
    "        compound.calculate(model.T())\n",
    "        return compound.Cp\n",
    "\n",
    "    R = 8.314  # Gas constant J/(mol K)\n",
    "    model.v0 = Var(initialize=initial_conditions['v0'], within=NonNegativeReals, bounds=(0.01,1))\n",
    "    model.C_A_in = Var(within=NonNegativeReals, initialize=initial_conditions['C_A_in'], bounds=(0,5))\n",
    "    model.C_B_in = Var(within=NonNegativeReals, initialize=initial_conditions['C_B_in'],bounds=(0,5))\n",
    "    model.C_A = Var(within=NonNegativeReals, initialize=model.C_A_in,bounds=(0,5)) #Concentration of A\n",
    "    model.C_B = Var(within=NonNegativeReals, initialize=model.C_B_in,bounds=(0,5))\n",
    "    model.V = Var(initialize=initial_conditions['V'], within=NonNegativeReals,bounds=(0.1, 10))\n",
    "    model.T_in = Var(initialize=303, within=NonNegativeReals, bounds=(300, 1000))\n",
    "    model.T = Var(within=NonNegativeReals, initialize=model.T_in,bounds=(300, 1000))\n",
    "    model.T_ref = Param(initialize=303)\n",
    "\n",
    "    model.C_C_in = Param(initialize=0)\n",
    "    model.C_D_in = Param(initialize=0)\n",
    "    model.C_C = Var(within=NonNegativeReals, initialize=0)\n",
    "    model.C_D = Var(within=NonNegativeReals, initialize=0)\n",
    "    model.Q_dot = Param(initialize=0)\n",
    "    model.W_dot = Param(initialize=0)\n",
    "    model.k0 = Param(initialize=rate_constant_303K)\n",
    "    model.Ea = Param(initialize=activation_energy)\n",
    "    model.k = model.k0 * exp(-model.Ea / (R * model.T))\n",
    "\n",
    "    model.reaction_rate = Var()\n",
    "    model.reaction_rate_constraint = Constraint(expr=model.reaction_rate == model.k * model.C_A * model.C_B)\n",
    "\n",
    "    def energy_balance_rule(model):\n",
    "        Cp_A = specific_heat(compound_names['reactants']['A']['formula'])\n",
    "        Cp_B = specific_heat(compound_names['reactants']['B']['formula'])\n",
    "        Cp_C = specific_heat(compound_names['products']['C']['formula'])\n",
    "        Cp_D = specific_heat(compound_names['products']['D']['formula'])\n",
    "        heat_capacity_flow_inlet = (model.C_A_in * Cp_A + model.C_B_in * Cp_B) * (model.T - model.T_in)\n",
    "        heat_capacity_flow_outlet = (model.C_C * Cp_C + model.C_D * Cp_D) * (model.T - model.T_ref)\n",
    "        reaction_enthalpy_term = reaction_enthalpy(compound_names) * model.reaction_rate * model.V\n",
    "        return (model.Q_dot - model.W_dot - heat_capacity_flow_inlet + heat_capacity_flow_outlet + reaction_enthalpy_term) == 0\n",
    "\n",
    "    model.energy_balance = Constraint(rule=energy_balance_rule)\n",
    "\n",
    "    def mole_balance_ruleA(model):\n",
    "        return model.C_A_in * model.v0 - model.C_A * model.v0 - model.reaction_rate * model.V == 0\n",
    "    model.mole_balance_A = Constraint(rule=mole_balance_ruleA)\n",
    "\n",
    "    def mole_balance_ruleB(model):\n",
    "        return model.C_B_in * model.v0 - model.C_B * model.v0 - model.reaction_rate * model.V == 0\n",
    "    model.mole_balance_B = Constraint(rule=mole_balance_ruleB)\n",
    "\n",
    "    def mole_balance_ruleC(model):\n",
    "        return model.C_C_in * model.v0 - model.C_C * model.v0 + model.reaction_rate * model.V == 0\n",
    "    model.mole_balance_C = Constraint(rule=mole_balance_ruleC)\n",
    "\n",
    "    def mole_balance_ruleD(model):\n",
    "        return model.C_D_in * model.v0 - model.C_D * model.v0 + model.reaction_rate * model.V == 0\n",
    "    model.mole_balance_D = Constraint(rule=mole_balance_ruleD)\n",
    "\n",
    "    def objective_rule(model):\n",
    "        return (model.C_A_in - model.C_A) / model.C_A_in\n",
    "    model.objective = Objective(rule=objective_rule, sense=1)  # Maximize conversion\n",
    "\n",
    "    solver = SolverFactory('ipopt')\n",
    "    results = solver.solve(model)\n",
    "\n",
    "    if (results.solver.status == 'ok') and (results.solver.termination_condition == 'optimal'):\n",
    "        print('Found optimal solution.')\n",
    "        print('C_A_in:', value(model.C_A_in), 'M')\n",
    "        print('C_B_in:', value(model.C_B_in), 'M')\n",
    "        print('V:', value(model.V), 'L')\n",
    "        print('v0:', value(model.v0), 'L/s')\n",
    "        print('T_in:', value(model.T_in), 'K')\n",
    "    else:\n",
    "        print('No optimal solution found.')\n",
    "\n",
    "    return model\n",
    "\n",
    "\n",
    "compound_names = {\n",
    "    'reactants': {\n",
    "        'A': {'formula': 'C4H8O2', 'stoichiometry': 1},  # Ethyl Acetate\n",
    "        'B': {'formula': 'NaOH', 'stoichiometry': 1},     # Sodium Hydroxide\n",
    "    },\n",
    "    'products': {\n",
    "        'C': {'formula': 'C2H5OH', 'stoichiometry': 1},  # Ethanol\n",
    "        'D': {'formula': 'NaC2H3O2', 'stoichiometry': 1},   # Sodium Acetate\n",
    "    }\n",
    "}\n",
    "\n",
    "# Example usage of the optimization function\n",
    "\n",
    "#Initial conditions are based on laboratory conditions\n",
    "initial_conditions = {\n",
    "    'C_A_in': 1.0,  # Inlet Concentration of A (M)\n",
    "    'C_B_in': 1.0,  # Inlet Concentration of B (M)\n",
    "     'v0': 0.5,# volumwtric flow rate (L/s)\n",
    "     'V': 5, # Reactor volume (L)\n",
    "}\n",
    "rate_constant_303K = 0.18 # Example rate constant at 303K for ESTERIFICATION\n",
    "activation_energy = 48.4*1000  # Example activation energy in J/mol for ESTERIFICATION\n",
    "\n",
    "# Call the function\n",
    "model = EASap(initial_conditions, rate_constant_303K, activation_energy, compound_names)"
   ]
  },
  {
   "cell_type": "markdown",
   "metadata": {},
   "source": [
    "# Building the Package"
   ]
  },
  {
   "cell_type": "markdown",
   "metadata": {},
   "source": [
    "### Setting Up the Package Structure"
   ]
  },
  {
   "cell_type": "code",
   "execution_count": null,
   "metadata": {},
   "outputs": [],
   "source": [
    "!mkdir -p SappyCSTR\n",
    "\n",
    "\n",
    "!mkdir -p SappyCSTR/SappyCSTR\n",
    "!mkdir -p SappyCSTR/tests\n",
    "\n",
    "!touch SappyCSTR/SappyCSTR/__init__.py\n",
    "!touch SappyCSTR/tests/__init__.py\n",
    "\n",
    "\n",
    "!touch SappyCSTR/SappyCSTR/core.py\n",
    "!touch SappyCSTR/tests/test_core.py\n",
    "\n",
    "\n",
    "!touch SappyCSTR/setup.py\n",
    "!touch SappyCSTR/requirements.txt\n",
    "!touch SappyCSTR/README.md\n",
    "!touch SappyCSTR/LICENSE\n"
   ]
  },
  {
   "cell_type": "markdown",
   "metadata": {},
   "source": [
    "### Writing the Package's `core.py` File"
   ]
  },
  {
   "cell_type": "code",
   "execution_count": null,
   "metadata": {},
   "outputs": [],
   "source": [
    "core_py_func = \"\"\"\n",
    "\n",
    "from pyomo.environ import ConcreteModel, Var, Constraint, Objective, SolverFactory, Param, NonNegativeReals, value, exp\n",
    "from thermo import Chemical\n",
    "\n",
    "def EASap(initial_conditions, rate_constant_303K, activation_energy, compound_names):\n",
    "\n",
    "    model = ConcreteModel()\n",
    "    def reaction_enthalpy(compound_names):\n",
    "        delta_H_rxn_react = 0.0\n",
    "        delta_H_rxn_prod = 0.0\n",
    "        for compound in compound_names['reactants'].values():\n",
    "            chemr = Chemical(compound['formula'])\n",
    "            delta_H_rxn_react += compound['stoichiometry'] * chemr.Hf\n",
    "        for compound in compound_names['products'].values():\n",
    "            chemp = Chemical(compound['formula'])\n",
    "            delta_H_rxn_prod += compound['stoichiometry'] * chemp.Hf\n",
    "        return (delta_H_rxn_prod - delta_H_rxn_react)\n",
    "\n",
    "    def specific_heat(compound_formula):\n",
    "        compound = Chemical(compound_formula)\n",
    "        compound.calculate(model.T())\n",
    "        return compound.Cp\n",
    "\n",
    "    R = 8.314\n",
    "    model.v0 = Var(initialize=initial_conditions['v0'], within=NonNegativeReals, bounds=(0.01, 1))\n",
    "    model.C_A_in = Var(within=NonNegativeReals, initialize=initial_conditions['C_A_in'], bounds=(0, 5))\n",
    "    model.C_B_in = Var(within=NonNegativeReals, initialize=initial_conditions['C_B_in'], bounds=(0, 5))\n",
    "    model.C_A = Var(within=NonNegativeReals, initialize=model.C_A_in, bounds=(0, 5))\n",
    "    model.C_B = Var(within=NonNegativeReals, initialize=model.C_B_in, bounds=(0, 5))\n",
    "    model.V = Var(initialize=initial_conditions['V'], within=NonNegativeReals, bounds=(0.1, 10))\n",
    "    model.T_in = Var(initialize=303, within=NonNegativeReals, bounds=(300, 1000))\n",
    "    model.T = Var(within=NonNegativeReals, initialize=model.T_in, bounds=(300, 1000))\n",
    "    model.T_ref = Param(initialize=303)\n",
    "    model.C_C_in = Param(initialize=0)\n",
    "    model.C_D_in = Param(initialize=0)\n",
    "    model.C_C = Var(within=NonNegativeReals, initialize=0)\n",
    "    model.C_D = Var(within=NonNegativeReals, initialize=0)\n",
    "    model.Q_dot = Param(initialize=0)\n",
    "    model.W_dot = Param(initialize=0)\n",
    "    model.k0 = Param(initialize=rate_constant_303K)\n",
    "    model.Ea = Param(initialize=activation_energy)\n",
    "    model.k = model.k0 * exp(-model.Ea / (R * model.T))\n",
    "    model.reaction_rate = Var()\n",
    "    model.reaction_rate_constraint = Constraint(expr=model.reaction_rate == model.k * model.C_A * model.C_B)\n",
    "\n",
    "    def energy_balance_rule(model):\n",
    "        Cp_A = specific_heat(compound_names['reactants']['A']['formula'])\n",
    "        Cp_B = specific_heat(compound_names['reactants']['B']['formula'])\n",
    "        Cp_C = specific_heat(compound_names['products']['C']['formula'])\n",
    "        Cp_D = specific_heat(compound_names['products']['D']['formula'])\n",
    "        heat_capacity_flow_inlet = (model.C_A_in * Cp_A + model.C_B_in * Cp_B) * (model.T - model.T_in)\n",
    "        heat_capacity_flow_outlet = (model.C_C * Cp_C + model.C_D * Cp_D) * (model.T - model.T_ref)\n",
    "        reaction_enthalpy_term = reaction_enthalpy(compound_names) * model.reaction_rate * model.V\n",
    "        return (model.Q_dot - model.W_dot - heat_capacity_flow_inlet + heat_capacity_flow_outlet + reaction_enthalpy_term) == 0\n",
    "\n",
    "    model.energy_balance = Constraint(rule=energy_balance_rule)\n",
    "\n",
    "    def mole_balance_ruleA(model):\n",
    "        return model.C_A_in * model.v0 - model.C_A * model.v0 - model.reaction_rate * model.V == 0\n",
    "    model.mole_balance_A = Constraint(rule=mole_balance_ruleA)\n",
    "\n",
    "    def mole_balance_ruleB(model):\n",
    "        return model.C_B_in * model.v0 - model.C_B * model.v0 - model.reaction_rate * model.V == 0\n",
    "    model.mole_balance_B = Constraint(rule=mole_balance_ruleB)\n",
    "\n",
    "    def mole_balance_ruleC(model):\n",
    "        return model.C_C_in * model.v0 - model.C_C * model.v0 + model.reaction_rate * model.V == 0\n",
    "    model.mole_balance_C = Constraint(rule=mole_balance_ruleC)\n",
    "\n",
    "    def mole_balance_ruleD(model):\n",
    "        return model.C_D_in * model.v0 - model.C_D * model.v0 + model.reaction_rate * model.V == 0\n",
    "    model.mole_balance_D = Constraint(rule=mole_balance_ruleD)\n",
    "\n",
    "    def objective_rule(model):\n",
    "        return (model.C_A_in - model.C_A) / model.C_A_in\n",
    "    model.objective = Objective(rule=objective_rule, sense=1)\n",
    "\n",
    "    solver = SolverFactory('ipopt')\n",
    "    results = solver.solve(model)\n",
    "\n",
    "    if (results.solver.status == 'ok') and (results.solver.termination_condition == 'optimal'):\n",
    "        print('Found optimal solution.')\n",
    "        print('C_A_in:', value(model.C_A_in), 'M')\n",
    "        print('C_B_in:', value(model.C_B_in), 'M')\n",
    "        print('V:', value(model.V), 'L')\n",
    "        print('v0:', value(model.v0), 'L/s')\n",
    "        print('T_in:', value(model.T_in), 'K')\n",
    "    else: \n",
    "        print('No optimal solution found.')\n",
    "\n",
    "    return model\n",
    "\"\"\"\n",
    "\n",
    "core_file_path = '/Users/jacob/Documents/CMU/Spring2024/JKMinis/CreatingScientificSoftware/Project/SappyCSTR/SappyCSTR/core.py'\n",
    "\n",
    "# Write the code_content to core.py\n",
    "with open(core_file_path, 'w') as file:\n",
    "    file.write(core_py_func)"
   ]
  },
  {
   "cell_type": "markdown",
   "metadata": {},
   "source": [
    "### Writing the `setup.py` File Using the `setuptools` Library"
   ]
  },
  {
   "cell_type": "code",
   "execution_count": null,
   "metadata": {},
   "outputs": [],
   "source": [
    "%%bash\n",
    "cd /Users/jacob/Documents/CMU/Spring2024/JKMinis/CreatingScientificSoftware/Project/SappyCSTR/"
   ]
  },
  {
   "cell_type": "code",
   "execution_count": null,
   "metadata": {},
   "outputs": [],
   "source": [
    "setup_code = \"\"\"\n",
    "from setuptools import setup, find_packages\n",
    "\n",
    "setup(\n",
    "    name='SappyCSTR',\n",
    "    version='0.1.0',\n",
    "    packages=find_packages(),\n",
    "    install_requires=[\n",
    "        'pyomo',\n",
    "        'thermo'\n",
    "    ],\n",
    "    author='Jacob Medley',\n",
    "    author_email='jmedley@andrew.cmu.edu',\n",
    "    description='A package to optimize CSTRs for saponification reactions.',\n",
    "    url='https://github.com/jmedjpg/optimize_CSTR',\n",
    "    classifiers=[\n",
    "        'Development Status :: 3 - Alpha',\n",
    "        'Intended Audience :: Developers',\n",
    "        'License :: OSI Approved :: MIT License',\n",
    "        'Programming Language :: Python :: 3',\n",
    "        'Programming Language :: Python :: 3.10',\n",
    "        'Programming Language :: Python :: 3.11',\n",
    "    ],\n",
    ")\n",
    "\"\"\"\n",
    "\n",
    "with open('/Users/jacob/Documents/CMU/Spring2024/JKMinis/CreatingScientificSoftware/Project/SappyCSTR/setup.py', 'w') as f:\n",
    "    f.write(setup_code)"
   ]
  },
  {
   "cell_type": "markdown",
   "metadata": {},
   "source": [
    "### Writting a Test Function for the Package  \n",
    "\n",
    "In this test, we will analyze the saponification reaction between Ethyl Acetate and Sodium Hydroxide, which yields Ethanol and Sodium Acetate, as illustrated in the initial code example. We have optimized the reaction conditions using specified initial parameters and compound nomenclature that align with those detailed in the research study referenced. The configuration of the model.Var() and model.Param() arguments draws directly from the experimental procedures outlined in the cited paper, ensuring that our simulation closely mirrors the empirical conditions presented in the original research. While direct verification of the results for the precise inputs remains beyond our reach, the outcomes appear to be consistent with the expectations set forth in the research paper, showing reasonable agreement with the reported data.\n",
    "\n",
    "Source: https://www.researchgate.net/profile/Parashuram-Sahoo/publication/229360677_Kinetic_Studies_on_Saponification_of_Ethyl_Acetate_Using_an_Innovative_Conductivity-Monitoring_Instrument_with_a_Pulsating_Sensor/links/59ddcfa6a6fdcc276fb9231b/Kinetic-Studies-on-Saponification-of-Ethyl-Acetate-Using-an-Innovative-Conductivity-Monitoring-Instrument-with-a-Pulsating-Sensor.pdf#:~:text=URL%3A%20https%3A%2F%2Fwww.researchgate.net%2Fprofile%2FParashuram"
   ]
  },
  {
   "cell_type": "code",
   "execution_count": null,
   "metadata": {},
   "outputs": [],
   "source": [
    "%%bash\n",
    "cat > /Users/jacob/Documents/CMU/Spring2024/JKMinis/CreatingScientificSoftware/Project/SappyCSTR/tests/test_core.py <<EOL\n",
    "import pytest\n",
    "from pyomo.environ import value\n",
    "from SappyCSTR.core import EASap  # Make sure to import your function\n",
    "\n",
    "def test_optimize_cstr():\n",
    "    initial_conditions = {\n",
    "        'C_A_in': 1.0,  # Inlet Concentration of A (M)\n",
    "        'C_B_in': 1.0,  # Inlet Concentration of B (M)\n",
    "        'v0': 0.5,  # volumetric flow rate (L/s)\n",
    "        'V': 5,  # Reactor volume (L)\n",
    "    }\n",
    "    rate_constant_303K = 0.18  # Example rate constant at 303K for ESTERIFICATION\n",
    "    activation_energy = 48.4*1000  # Example activation energy in J/mol for ESTERIFICATION\n",
    "    compound_names = {\n",
    "        'reactants': {\n",
    "            'A': {'formula': 'C4H8O2', 'stoichiometry': 1},  # Ethyl Acetate\n",
    "            'B': {'formula': 'NaOH', 'stoichiometry': 1},     # Sodium Hydroxide\n",
    "        },\n",
    "        'products': {\n",
    "            'C': {'formula': 'C2H5OH', 'stoichiometry': 1},  # Ethanol\n",
    "            'D': {'formula': 'NaC2H3O2', 'stoichiometry': 1},   # Sodium Acetate\n",
    "        }\n",
    "    }\n",
    "\n",
    "    model = optimize_cstr(initial_conditions, rate_constant_303K, activation_energy, compound_names)\n",
    "\n",
    "    assert value(model.C_A_in) == pytest.approx(3.1170817473657824, 0.01)\n",
    "    assert value(model.C_B_in) == pytest.approx(1.5222873831305916, 0.01)\n",
    "    assert value(model.V) == pytest.approx(0.6234563738047896, 0.01)\n",
    "    assert value(model.v0) == pytest.approx(0.6814717895958581, 0.01)\n",
    "    assert value(model.T_in) == pytest.approx(332.0706816612416, 0.01)\n",
    "EOL"
   ]
  },
  {
   "cell_type": "markdown",
   "metadata": {},
   "source": [
    "### Writing the README.md File"
   ]
  },
  {
   "cell_type": "code",
   "execution_count": null,
   "metadata": {},
   "outputs": [],
   "source": [
    "%%writefile /Users/jacob/Documents/CMU/Spring2024/JKMinis/CreatingScientificSoftware/Project/SappyCSTR/README.md\n",
    "\n",
    "# SappyCSTR\n",
    "\n",
    "The `SappyCSTR` package is designed to enhance the conversion of reactants in a Continuous Stirred Tank Reactor (CSTR) engaged in a saponification reaction. Utilizing the Python libraries `Pyomo` for mathematical optimization and `Thermo` for thermodynamic property calculations, this package focuses on optimizing key operational parameters such as inlet temperature, inlet concentration of reactants, reactor volume, and inlet volumetric flow rate. By providing a structured and efficient approach to adjust these parameters, `SappyCSTR` aims to achieve optimal reactant conversion, thereby enhancing the efficiency and output of chemical processes within CSTR systems.\n",
    "\n",
    "## Table of Contents\n",
    "- [Installation](#installation)\n",
    "- [Usage](#usage)\n",
    "- [Examples](#examples)\n",
    "- [Contributing](#contributing)\n",
    "- [License](#license)\n",
    "\n",
    "## Installation\n",
    "\n",
    "Run the following line in a shell. For example, in a Bash shell:\n",
    "\n",
    "'pip install SappyCSTR'\n",
    "\n",
    "## Usage \n",
    "\n",
    "The primary usage of `SappyCSTR` is to optimize reactor conditions for saponification reactions occuring in a CSTR in adiabatic, isobaric conditions.  \n",
    "\n",
    "First, import the function like so:\n",
    "\n",
    "from SappyCSTR.core import optimize_CSTR\n",
    "\n",
    "The inputs necessary to use the function `optimize_CSTR` are a dictionary of initial conditions, a rate constant at a reference temperature (scalar), activation energy for the reaction (scaler), and a dictionary defining the compound names, their role (reactant or product), and their stoichiometry. \n",
    "\n",
    "Here is the structure for initial_conditions:  \n",
    "\n",
    "initial_conditions = {\n",
    "    'C_A_in': **value**  # Inlet Concentration of A (M)\n",
    "    'C_B_in': **value**,  # Inlet Concentration of B (M)\n",
    "     'v0': **value**,# volumwtric flow rate (L/s)\n",
    "     'V': **value**, # Reactor volume (L)\n",
    "}\n",
    "\n",
    "And here is the structure for compound_names:  \n",
    "\n",
    "compound_names = {\n",
    "    'reactants': {\n",
    "        'A': {'formula': **'condensed structural formula'**, 'stoichiometry': **value**},  \n",
    "        'B': {'formula': **'condensed structural formula'**, 'stoichiometry': **value**},   \n",
    "    },\n",
    "    'products': {\n",
    "        'C': {'formula': **'condensed structural formula'**, 'stoichiometry': **value**},  # Ethanol\n",
    "        'D': {'formula': **'condensed structural formula'**, 'stoichiometry': **value**},   # Sodium Acetate\n",
    "    }\n",
    "}"
   ]
  },
  {
   "cell_type": "markdown",
   "metadata": {},
   "source": [
    "### Writing LICENSE  \n",
    "\n",
    "Using the standard MIT License."
   ]
  },
  {
   "cell_type": "code",
   "execution_count": null,
   "metadata": {},
   "outputs": [],
   "source": [
    "%%writefile /Users/jacob/Documents/CMU/Spring2024/JKMinis/CreatingScientificSoftware/Project/SappyCSTR/LICENSE\n",
    "\n",
    "Copyright <2024> <Jacob Medley>\n",
    "\n",
    "Permission is hereby granted, free of charge, to any person obtaining a copy of this software and associated documentation files (the “Software”), to deal in the Software without restriction, including without limitation the rights to use, copy, modify, merge, publish, distribute, sublicense, and/or sell copies of the Software, and to permit persons to whom the Software is furnished to do so, subject to the following conditions:\n",
    "\n",
    "The above copyright notice and this permission notice shall be included in all copies or substantial portions of the Software.\n",
    "\n",
    "THE SOFTWARE IS PROVIDED “AS IS”, WITHOUT WARRANTY OF ANY KIND, EXPRESS OR IMPLIED, INCLUDING BUT NOT LIMITED TO THE WARRANTIES OF MERCHANTABILITY, FITNESS FOR A PARTICULAR PURPOSE AND NONINFRINGEMENT. IN NO EVENT SHALL THE AUTHORS OR COPYRIGHT HOLDERS BE LIABLE FOR ANY CLAIM, DAMAGES OR OTHER LIABILITY, WHETHER IN AN ACTION OF CONTRACT, TORT OR OTHERWISE, ARISING FROM, OUT OF OR IN CONNECTION WITH THE SOFTWARE OR THE USE OR OTHER DEALINGS IN THE SOFTWARE."
   ]
  },
  {
   "cell_type": "code",
   "execution_count": null,
   "metadata": {},
   "outputs": [],
   "source": [
    "%%writefile /Users/jacob/Documents/CMU/Spring2024/JKMinis/CreatingScientificSoftware/Project/SappyCSTR/requirements.txt\n",
    "\n",
    "pyomo==6.7.1\n",
    "thermo==0.2.27"
   ]
  },
  {
   "cell_type": "markdown",
   "metadata": {},
   "source": [
    "### Final Package Structure"
   ]
  },
  {
   "cell_type": "code",
   "execution_count": null,
   "metadata": {},
   "outputs": [],
   "source": [
    "%%bash\n",
    "cd /Users/jacob/Documents/CMU/Spring2024/JKMinis/CreatingScientificSoftware/Project/SappyCSTR/\n",
    "tree"
   ]
  },
  {
   "cell_type": "markdown",
   "metadata": {},
   "source": [
    "## Establishing Git Repo and Pushing and Publishing the Changes"
   ]
  },
  {
   "cell_type": "markdown",
   "metadata": {},
   "source": [
    "### Establishing a Git Repo and Commiting Changes Locally"
   ]
  },
  {
   "cell_type": "code",
   "execution_count": null,
   "metadata": {},
   "outputs": [],
   "source": [
    "# Clone the repository - skip if you already have the latest version locally\n",
    "git clone https://github.com/jmedjpg/SappyCSTR.git\n",
    "cd SappyCSTR\n",
    "\n",
    "# Remove the unwanted files\n",
    "git rm '.DS_Store' 'JacobMedleyProjectDraft...' # and so on for each file\n",
    "\n",
    "# Commit the changes\n",
    "git commit -m \"Remove unwanted files\"\n",
    "\n",
    "# Push the changes to GitHub\n",
    "git push origin main\n"
   ]
  },
  {
   "cell_type": "code",
   "execution_count": null,
   "metadata": {},
   "outputs": [],
   "source": [
    "import os\n",
    "from getpass import getpass\n",
    "import subprocess\n",
    "\n",
    "# Prompt for the GitHub token securely\n",
    "token = getpass('Enter your GitHub token: ')\n",
    "\n",
    "# Set the token as an environment variable\n",
    "os.environ['GITHUB_TOKEN'] = token\n",
    "\n",
    "# Set your project directory\n",
    "project_dir = \"/Users/jacob/Documents/CMU/Spring2024/JKMinis/CreatingScientificSoftware/Project/SappyCSTR\"\n",
    "\n",
    "# Define the commands to run in the shell\n",
    "commands = [\n",
    "    f\"cd {project_dir}\",\n",
    "    \"git init\",\n",
    "    \"git config --global user.name 'Jacob Medley'\",\n",
    "    \"git config --global user.email 'jmedley@andrew.cmu.edu'\",\n",
    "    \"git add .\",\n",
    "    \"git commit -m 'Wrote the inaugural versions of core.py, README.md, LICENSE, requirements.txt, setup.py, and test_core.py'\",\n",
    "    \"git remote add origin https://github.com/jmedjpg/SappyCSTR.git\",\n",
    "    \"git pull --rebase origin main\",\n",
    "    f\"git push https://{os.environ['GITHUB_TOKEN']}@github.com/jmedjpg/SappyCSTR.git main\"\n",
    "]\n",
    "\n",
    "# Execute the commands\n",
    "for cmd in commands:\n",
    "    process = subprocess.run(cmd, shell=True, text=True)\n",
    "    if process.returncode != 0:\n",
    "        print(f\"Error executing command: {cmd}\")\n",
    "        break\n",
    "\n",
    "# Clear the GitHub token from the environment\n",
    "del os.environ['GITHUB_TOKEN']\n"
   ]
  },
  {
   "cell_type": "code",
   "execution_count": null,
   "metadata": {},
   "outputs": [],
   "source": [
    "%%bash\n",
    "cd /Users/jacob/Documents/CMU/Spring2024/JKMinis/CreatingScientificSoftware/Project/SappyCSTR\n",
    "git init\n",
    "git add .\n",
    "git commit -m \"Wrote the inaugural versions of core.py, README.md, LICENSE, requirements.txt, setup.py, and test_core.py\""
   ]
  },
  {
   "cell_type": "markdown",
   "metadata": {},
   "source": [
    "### Committing Changes to A Repository on my GitHub Account"
   ]
  },
  {
   "cell_type": "code",
   "execution_count": null,
   "metadata": {},
   "outputs": [],
   "source": [
    "import os\n",
    "from getpass import getpass\n",
    "\n",
    "# Prompt for the token\n",
    "token = getpass('Enter your GitHub token: ')\n",
    "\n",
    "# Set the token as an environment variable\n",
    "os.environ['GITHUB_TOKEN'] = token"
   ]
  },
  {
   "cell_type": "code",
   "execution_count": null,
   "metadata": {},
   "outputs": [],
   "source": [
    "%%bash\n",
    "\n",
    "export GITHUB_TOKEN=${GITHUB_TOKEN}\n",
    "\n",
    "cd /Users/jacob/Documents/CMU/Spring2024/JKMinis/CreatingScientificSoftware/Project/SappyCSTR/\n",
    "git init\n",
    "git config --global user.name \"Jacob Medley\"\n",
    "git config --global user.email \"jmedley@andrew.cmu.edu\"\n",
    "git add .\n",
    "git commit -m \"Wrote the inaugural versions of core.py, README.md, LICENSE, requirements.txt, setup.py, and test_core.py\"\n",
    "git push https://${GITHUB_TOKEN}@github.com/jmedjpg/SappyCSTR.git main"
   ]
  },
  {
   "cell_type": "markdown",
   "metadata": {},
   "source": [
    "### Publishing to PyPi"
   ]
  },
  {
   "cell_type": "code",
   "execution_count": null,
   "metadata": {},
   "outputs": [],
   "source": [
    "%%bash\n",
    "pip install setuptools wheel twine\n",
    "\n",
    "cd /Users/jacob/Documents/CMU/Spring2024/JKMinis/CreatingScientificSoftware/Project/SappyCSTR/\n",
    "\n",
    "rm -rf dist\n",
    "\n",
    "python setup.py sdist bdist_wheel\n",
    "\n",
    "twine upload dist/*\n"
   ]
  },
  {
   "cell_type": "markdown",
   "metadata": {},
   "source": [
    "### Code Quality"
   ]
  },
  {
   "cell_type": "code",
   "execution_count": null,
   "metadata": {},
   "outputs": [],
   "source": [
    "%%bash\n",
    "flake8 SappyCSTR"
   ]
  },
  {
   "cell_type": "markdown",
   "metadata": {},
   "source": [
    "### Importing the Package from Local Source"
   ]
  },
  {
   "cell_type": "code",
   "execution_count": null,
   "metadata": {},
   "outputs": [],
   "source": [
    "compound_names = {\n",
    "    'reactants': {\n",
    "        'A': {'formula': 'C4H8O2', 'stoichiometry': 1},  # Ethyl Acetate\n",
    "        'B': {'formula': 'NaOH', 'stoichiometry': 1},     # Sodium Hydroxide\n",
    "    },\n",
    "    'products': {\n",
    "        'C': {'formula': 'C2H5OH', 'stoichiometry': 1},  # Ethanol\n",
    "        'D': {'formula': 'NaC2H3O2', 'stoichiometry': 1},   # Sodium Acetate\n",
    "    }\n",
    "}\n",
    "\n",
    "initial_conditions = {\n",
    "    'C_A_in': 1.0,  # Inlet Concentration of A (M)\n",
    "    'C_B_in': 1.0,  # Inlet Concentration of B (M)\n",
    "     'v0': 0.5,# volumwtric flow rate (L/s)\n",
    "     'V': 5, # Reactor volume (L)\n",
    "}\n",
    "rate_constant_303K = 0.18 # Example rate constant at 303K for ESTERIFICATION\n",
    "activation_energy = 48.4*1000  # Example activation energy in J/mol for ESTERIFICATION"
   ]
  }
 ],
 "metadata": {
  "kernelspec": {
   "display_name": "jmed",
   "language": "python",
   "name": "python3"
  },
  "language_info": {
   "codemirror_mode": {
    "name": "ipython",
    "version": 3
   },
   "file_extension": ".py",
   "mimetype": "text/x-python",
   "name": "python",
   "nbconvert_exporter": "python",
   "pygments_lexer": "ipython3",
   "version": "3.11.7"
  }
 },
 "nbformat": 4,
 "nbformat_minor": 2
}
